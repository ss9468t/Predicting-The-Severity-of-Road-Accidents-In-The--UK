{
 "cells": [
  {
   "cell_type": "code",
   "execution_count": 1,
   "id": "bf8030f6",
   "metadata": {},
   "outputs": [],
   "source": [
    "import pandas as pd\n",
    "import numpy as np \n",
    "import seaborn as sns \n",
    "import matplotlib.pyplot as plt "
   ]
  },
  {
   "cell_type": "code",
   "execution_count": 2,
   "id": "255ed5c8",
   "metadata": {},
   "outputs": [],
   "source": [
    "accident= pd.read_csv(\"C://Users//Deep.ai//Desktop//Gboy PS//SODEX//OPTION1_uk_road_accident_2019_coursework_final.csv\")"
   ]
  },
  {
   "cell_type": "code",
   "execution_count": 3,
   "id": "e1899052",
   "metadata": {},
   "outputs": [
    {
     "data": {
      "text/html": [
       "<div>\n",
       "<style scoped>\n",
       "    .dataframe tbody tr th:only-of-type {\n",
       "        vertical-align: middle;\n",
       "    }\n",
       "\n",
       "    .dataframe tbody tr th {\n",
       "        vertical-align: top;\n",
       "    }\n",
       "\n",
       "    .dataframe thead th {\n",
       "        text-align: right;\n",
       "    }\n",
       "</style>\n",
       "<table border=\"1\" class=\"dataframe\">\n",
       "  <thead>\n",
       "    <tr style=\"text-align: right;\">\n",
       "      <th></th>\n",
       "      <th>accident_index</th>\n",
       "      <th>speed_limit</th>\n",
       "      <th>light_conditions</th>\n",
       "      <th>weather_conditions</th>\n",
       "      <th>road_surface_conditions</th>\n",
       "      <th>vehicle_type</th>\n",
       "      <th>junction_location</th>\n",
       "      <th>skidding_and_overturning</th>\n",
       "      <th>vehicle_leaving_carriageway</th>\n",
       "      <th>hit_object_off_carriageway</th>\n",
       "      <th>first_point_of_impact</th>\n",
       "      <th>sex_of_driver</th>\n",
       "      <th>age_of_oldest_driver</th>\n",
       "      <th>accident_severity</th>\n",
       "    </tr>\n",
       "  </thead>\n",
       "  <tbody>\n",
       "    <tr>\n",
       "      <th>0</th>\n",
       "      <td>2019010225080</td>\n",
       "      <td>30</td>\n",
       "      <td>darkness</td>\n",
       "      <td>other</td>\n",
       "      <td>wet or damp</td>\n",
       "      <td>at least one van</td>\n",
       "      <td>at or within 20 metres of junction</td>\n",
       "      <td>no skidding or overturning</td>\n",
       "      <td>none leaving carriageway</td>\n",
       "      <td>none hit an object</td>\n",
       "      <td>other points of impact</td>\n",
       "      <td>all males</td>\n",
       "      <td>63.0</td>\n",
       "      <td>serious</td>\n",
       "    </tr>\n",
       "    <tr>\n",
       "      <th>1</th>\n",
       "      <td>2019200908684</td>\n",
       "      <td>30</td>\n",
       "      <td>darkness</td>\n",
       "      <td>fine</td>\n",
       "      <td>dry</td>\n",
       "      <td>only cars</td>\n",
       "      <td>at or within 20 metres of junction</td>\n",
       "      <td>no skidding or overturning</td>\n",
       "      <td>at least one vehicle leaving carriageway</td>\n",
       "      <td>at least one vehicle hit an object</td>\n",
       "      <td>at least one vehicle with frontal impact</td>\n",
       "      <td>all males</td>\n",
       "      <td>82.0</td>\n",
       "      <td>fatal</td>\n",
       "    </tr>\n",
       "    <tr>\n",
       "      <th>2</th>\n",
       "      <td>2019040860897</td>\n",
       "      <td>40</td>\n",
       "      <td>daylight</td>\n",
       "      <td>fine</td>\n",
       "      <td>dry</td>\n",
       "      <td>only cars</td>\n",
       "      <td>at or within 20 metres of junction</td>\n",
       "      <td>no skidding or overturning</td>\n",
       "      <td>none leaving carriageway</td>\n",
       "      <td>none hit an object</td>\n",
       "      <td>at least one vehicle with frontal impact</td>\n",
       "      <td>data missing or out of range</td>\n",
       "      <td>NaN</td>\n",
       "      <td>serious</td>\n",
       "    </tr>\n",
       "    <tr>\n",
       "      <th>3</th>\n",
       "      <td>2019460847205</td>\n",
       "      <td>40</td>\n",
       "      <td>daylight</td>\n",
       "      <td>fine</td>\n",
       "      <td>dry</td>\n",
       "      <td>only cars</td>\n",
       "      <td>not at or within 20 metres of junction</td>\n",
       "      <td>no skidding or overturning</td>\n",
       "      <td>none leaving carriageway</td>\n",
       "      <td>none hit an object</td>\n",
       "      <td>at least one vehicle with frontal impact</td>\n",
       "      <td>male and female</td>\n",
       "      <td>NaN</td>\n",
       "      <td>serious</td>\n",
       "    </tr>\n",
       "    <tr>\n",
       "      <th>4</th>\n",
       "      <td>2019051911581</td>\n",
       "      <td>30</td>\n",
       "      <td>daylight</td>\n",
       "      <td>fine</td>\n",
       "      <td>dry</td>\n",
       "      <td>only cars</td>\n",
       "      <td>not at or within 20 metres of junction</td>\n",
       "      <td>no skidding or overturning</td>\n",
       "      <td>none leaving carriageway</td>\n",
       "      <td>none hit an object</td>\n",
       "      <td>at least one vehicle with frontal impact</td>\n",
       "      <td>all females</td>\n",
       "      <td>39.0</td>\n",
       "      <td>slight</td>\n",
       "    </tr>\n",
       "  </tbody>\n",
       "</table>\n",
       "</div>"
      ],
      "text/plain": [
       "  accident_index  speed_limit light_conditions weather_conditions  \\\n",
       "0  2019010225080           30         darkness              other   \n",
       "1  2019200908684           30         darkness               fine   \n",
       "2  2019040860897           40         daylight               fine   \n",
       "3  2019460847205           40         daylight               fine   \n",
       "4  2019051911581           30         daylight               fine   \n",
       "\n",
       "  road_surface_conditions      vehicle_type  \\\n",
       "0             wet or damp  at least one van   \n",
       "1                     dry         only cars   \n",
       "2                     dry         only cars   \n",
       "3                     dry         only cars   \n",
       "4                     dry         only cars   \n",
       "\n",
       "                        junction_location    skidding_and_overturning  \\\n",
       "0      at or within 20 metres of junction  no skidding or overturning   \n",
       "1      at or within 20 metres of junction  no skidding or overturning   \n",
       "2      at or within 20 metres of junction  no skidding or overturning   \n",
       "3  not at or within 20 metres of junction  no skidding or overturning   \n",
       "4  not at or within 20 metres of junction  no skidding or overturning   \n",
       "\n",
       "                vehicle_leaving_carriageway  \\\n",
       "0                  none leaving carriageway   \n",
       "1  at least one vehicle leaving carriageway   \n",
       "2                  none leaving carriageway   \n",
       "3                  none leaving carriageway   \n",
       "4                  none leaving carriageway   \n",
       "\n",
       "           hit_object_off_carriageway  \\\n",
       "0                  none hit an object   \n",
       "1  at least one vehicle hit an object   \n",
       "2                  none hit an object   \n",
       "3                  none hit an object   \n",
       "4                  none hit an object   \n",
       "\n",
       "                      first_point_of_impact                 sex_of_driver  \\\n",
       "0                    other points of impact                     all males   \n",
       "1  at least one vehicle with frontal impact                     all males   \n",
       "2  at least one vehicle with frontal impact  data missing or out of range   \n",
       "3  at least one vehicle with frontal impact               male and female   \n",
       "4  at least one vehicle with frontal impact                   all females   \n",
       "\n",
       "   age_of_oldest_driver accident_severity  \n",
       "0                  63.0           serious  \n",
       "1                  82.0             fatal  \n",
       "2                   NaN           serious  \n",
       "3                   NaN           serious  \n",
       "4                  39.0            slight  "
      ]
     },
     "execution_count": 3,
     "metadata": {},
     "output_type": "execute_result"
    }
   ],
   "source": [
    "accident.head()"
   ]
  },
  {
   "cell_type": "code",
   "execution_count": 4,
   "id": "05348ab7",
   "metadata": {},
   "outputs": [
    {
     "data": {
      "text/plain": [
       "(31647, 14)"
      ]
     },
     "execution_count": 4,
     "metadata": {},
     "output_type": "execute_result"
    }
   ],
   "source": [
    "accident.shape"
   ]
  },
  {
   "cell_type": "code",
   "execution_count": 5,
   "id": "50f7bd2e",
   "metadata": {},
   "outputs": [
    {
     "data": {
      "text/plain": [
       "Index(['accident_index', 'speed_limit', 'light_conditions',\n",
       "       'weather_conditions', 'road_surface_conditions', 'vehicle_type',\n",
       "       'junction_location', 'skidding_and_overturning',\n",
       "       'vehicle_leaving_carriageway', 'hit_object_off_carriageway',\n",
       "       'first_point_of_impact', 'sex_of_driver', 'age_of_oldest_driver',\n",
       "       'accident_severity'],\n",
       "      dtype='object')"
      ]
     },
     "execution_count": 5,
     "metadata": {},
     "output_type": "execute_result"
    }
   ],
   "source": [
    "accident.columns"
   ]
  },
  {
   "cell_type": "code",
   "execution_count": 6,
   "id": "9b93d36b",
   "metadata": {},
   "outputs": [
    {
     "name": "stdout",
     "output_type": "stream",
     "text": [
      "<class 'pandas.core.frame.DataFrame'>\n",
      "RangeIndex: 31647 entries, 0 to 31646\n",
      "Data columns (total 14 columns):\n",
      " #   Column                       Non-Null Count  Dtype  \n",
      "---  ------                       --------------  -----  \n",
      " 0   accident_index               31647 non-null  object \n",
      " 1   speed_limit                  31647 non-null  int64  \n",
      " 2   light_conditions             31647 non-null  object \n",
      " 3   weather_conditions           31647 non-null  object \n",
      " 4   road_surface_conditions      31647 non-null  object \n",
      " 5   vehicle_type                 31647 non-null  object \n",
      " 6   junction_location            31647 non-null  object \n",
      " 7   skidding_and_overturning     31647 non-null  object \n",
      " 8   vehicle_leaving_carriageway  31647 non-null  object \n",
      " 9   hit_object_off_carriageway   31647 non-null  object \n",
      " 10  first_point_of_impact        31647 non-null  object \n",
      " 11  sex_of_driver                31647 non-null  object \n",
      " 12  age_of_oldest_driver         25197 non-null  float64\n",
      " 13  accident_severity            30475 non-null  object \n",
      "dtypes: float64(1), int64(1), object(12)\n",
      "memory usage: 3.4+ MB\n"
     ]
    }
   ],
   "source": [
    "accident.info()"
   ]
  },
  {
   "cell_type": "code",
   "execution_count": 7,
   "id": "3b87f99d",
   "metadata": {},
   "outputs": [
    {
     "data": {
      "image/png": "[encoded data removed]",
      "text/plain": [
       "<Figure size 576x432 with 1 Axes>"
      ]
     },
     "metadata": {
      "needs_background": "light"
     },
     "output_type": "display_data"
    }
   ],
   "source": [
    "\n",
    "# 1. Bar plot: Accident severity counts\n",
    "plt.figure(figsize=(8, 6))\n",
    "sns.countplot(x='accident_severity', data=accident)\n",
    "plt.title('Accident Severity Counts')\n",
    "plt.xlabel('Accident Severity')\n",
    "plt.ylabel('Count')\n",
    "plt.show()\n"
   ]
  },
  {
   "cell_type": "code",
   "execution_count": 8,
   "id": "b9ef15b3",
   "metadata": {},
   "outputs": [
    {
     "data": {
      "image/png": "[encoded data removed]",
      "text/plain": [
       "<Figure size 576x432 with 1 Axes>"
      ]
     },
     "metadata": {
      "needs_background": "light"
     },
     "output_type": "display_data"
    }
   ],
   "source": [
    "\n",
    "# 2. Box plot: Age of oldest driver vs. accident severity\n",
    "plt.figure(figsize=(8, 6))\n",
    "sns.boxplot(x='accident_severity', y='age_of_oldest_driver', data=accident)\n",
    "plt.title('Age of Oldest Driver vs. Accident Severity')\n",
    "plt.xlabel('Accident Severity')\n",
    "plt.ylabel('Age of Oldest Driver')\n",
    "plt.show()"
   ]
  },
  {
   "cell_type": "markdown",
   "id": "49e6b2a9",
   "metadata": {},
   "source": [
    "# The data is very misplaces as the serious and Serious are the same valuies and this goes for other too so will replave these values "
   ]
  },
  {
   "cell_type": "code",
   "execution_count": 9,
   "id": "4d032472",
   "metadata": {},
   "outputs": [
    {
     "data": {
      "text/plain": [
       "slight     12672\n",
       "serious    11592\n",
       "fatal       6159\n",
       "Serious       25\n",
       "Slight        19\n",
       "Fatal          8\n",
       "Name: accident_severity, dtype: int64"
      ]
     },
     "execution_count": 9,
     "metadata": {},
     "output_type": "execute_result"
    }
   ],
   "source": [
    "accident[\"accident_severity\"].value_counts()"
   ]
  },
  {
   "cell_type": "code",
   "execution_count": 10,
   "id": "978a9690",
   "metadata": {},
   "outputs": [
    {
     "name": "stdout",
     "output_type": "stream",
     "text": [
      "Slight     12691\n",
      "Serious    11617\n",
      "Fatal       6167\n",
      "Name: accident_severity, dtype: int64\n"
     ]
    }
   ],
   "source": [
    "# Function to clean and capitalize the values in 'accident_severity' column\n",
    "# Remove rows with NaN or null values in the 'accident_severity' column\n",
    "accident = accident.dropna(subset=['accident_severity'])\n",
    "\n",
    "def clean_accident_severity(value):\n",
    "    return value.lower().capitalize()\n",
    "\n",
    "# Apply the function to the 'accident_severity' column\n",
    "accident['accident_severity'] = accident['accident_severity'].apply(clean_accident_severity)\n",
    "\n",
    "# Check the updated value counts\n",
    "print(accident['accident_severity'].value_counts())\n"
   ]
  },
  {
   "cell_type": "markdown",
   "id": "25b8dcb7",
   "metadata": {},
   "source": [
    "# Now plotting graphs "
   ]
  },
  {
   "cell_type": "code",
   "execution_count": 11,
   "id": "5ec16d40",
   "metadata": {},
   "outputs": [
    {
     "data": {
      "image/png": "[encoded data removed]",
      "text/plain": [
       "<Figure size 576x432 with 1 Axes>"
      ]
     },
     "metadata": {
      "needs_background": "light"
     },
     "output_type": "display_data"
    }
   ],
   "source": [
    "\n",
    "# 1. Bar plot: Accident severity counts\n",
    "plt.figure(figsize=(8, 6))\n",
    "sns.countplot(x='accident_severity', data=accident)\n",
    "plt.title('Accident Severity Counts')\n",
    "plt.xlabel('Accident Severity')\n",
    "plt.ylabel('Count')\n",
    "plt.show()\n"
   ]
  },
  {
   "cell_type": "code",
   "execution_count": 12,
   "id": "6ae4a7aa",
   "metadata": {},
   "outputs": [
    {
     "data": {
      "image/png": "[encoded data removed]",
      "text/plain": [
       "<Figure size 576x432 with 2 Axes>"
      ]
     },
     "metadata": {
      "needs_background": "light"
     },
     "output_type": "display_data"
    }
   ],
   "source": [
    "# 3. Heatmap: Correlation matrix\n",
    "plt.figure(figsize=(8, 6))\n",
    "corr = accident.corr()\n",
    "sns.heatmap(corr, annot=True, cmap='coolwarm')\n",
    "plt.title('Correlation Matrix')\n",
    "plt.show()"
   ]
  },
  {
   "cell_type": "code",
   "execution_count": 13,
   "id": "3fb76b92",
   "metadata": {},
   "outputs": [
    {
     "data": {
      "image/png": "[encoded data removed]",
      "text/plain": [
       "<Figure size 864x432 with 1 Axes>"
      ]
     },
     "metadata": {
      "needs_background": "light"
     },
     "output_type": "display_data"
    },
    {
     "data": {
      "image/png": "[encoded data removed]",
      "text/plain": [
       "<Figure size 864x432 with 1 Axes>"
      ]
     },
     "metadata": {
      "needs_background": "light"
     },
     "output_type": "display_data"
    },
    {
     "data": {
      "image/png": "[encoded data removed]",
      "text/plain": [
       "<Figure size 864x432 with 1 Axes>"
      ]
     },
     "metadata": {
      "needs_background": "light"
     },
     "output_type": "display_data"
    },
    {
     "data": {
      "image/png": "[encoded data removed]",
      "text/plain": [
       "<Figure size 864x432 with 1 Axes>"
      ]
     },
     "metadata": {
      "needs_background": "light"
     },
     "output_type": "display_data"
    },
    {
     "data": {
      "image/png": "[encoded data removed]",
      "text/plain": [
       "<Figure size 864x432 with 1 Axes>"
      ]
     },
     "metadata": {
      "needs_background": "light"
     },
     "output_type": "display_data"
    }
   ],
   "source": [
    "\n",
    "# Function for creating stacked bar plots\n",
    "def plot_stacked_bar(df, x, y, hue, title, xlabel, ylabel):\n",
    "    plt.figure(figsize=(12, 6))\n",
    "    sns.countplot(x=x, hue=hue, data=df)\n",
    "    plt.title(title)\n",
    "    plt.xlabel(xlabel)\n",
    "    plt.ylabel(ylabel)\n",
    "    plt.legend(title=hue, loc='upper right')\n",
    "    plt.show()\n",
    "\n",
    "# 4. Stacked bar plot: Light conditions vs. accident severity\n",
    "plot_stacked_bar(accident, 'light_conditions', 'accident_severity', 'accident_severity', 'Light Conditions vs. Accident Severity', 'Light Conditions', 'Count')\n",
    "\n",
    "# 5. Stacked bar plot: Weather conditions vs. accident severity\n",
    "plot_stacked_bar(accident, 'weather_conditions', 'accident_severity', 'accident_severity', 'Weather Conditions vs. Accident Severity', 'Weather Conditions', 'Count')\n",
    "\n",
    "# 6. Stacked bar plot: Road surface conditions vs. accident severity\n",
    "plot_stacked_bar(accident, 'road_surface_conditions', 'accident_severity', 'accident_severity', 'Road Surface Conditions vs. Accident Severity', 'Road Surface Conditions', 'Count')\n",
    "\n",
    "# 7. Stacked bar plot: Vehicle type vs. accident severity\n",
    "plot_stacked_bar(accident, 'vehicle_type', 'accident_severity', 'accident_severity', 'Vehicle Type vs. Accident Severity', 'Vehicle Type', 'Count')\n",
    "\n",
    "# 8. Stacked bar plot: Sex of driver vs. accident severity\n",
    "plot_stacked_bar(accident, 'sex_of_driver', 'accident_severity', 'accident_severity', 'Sex of Driver vs. Accident Severity', 'Sex of Driver', 'Count')"
   ]
  },
  {
   "cell_type": "code",
   "execution_count": 14,
   "id": "5ecf1e1e",
   "metadata": {},
   "outputs": [
    {
     "data": {
      "text/plain": [
       "accident_index                    0\n",
       "speed_limit                       0\n",
       "light_conditions                  0\n",
       "weather_conditions                0\n",
       "road_surface_conditions           0\n",
       "vehicle_type                      0\n",
       "junction_location                 0\n",
       "skidding_and_overturning          0\n",
       "vehicle_leaving_carriageway       0\n",
       "hit_object_off_carriageway        0\n",
       "first_point_of_impact             0\n",
       "sex_of_driver                     0\n",
       "age_of_oldest_driver           6188\n",
       "accident_severity                 0\n",
       "dtype: int64"
      ]
     },
     "execution_count": 14,
     "metadata": {},
     "output_type": "execute_result"
    }
   ],
   "source": [
    "accident.isna().sum()"
   ]
  },
  {
   "cell_type": "markdown",
   "id": "d07ee1df",
   "metadata": {},
   "source": [
    " # We can fill in the missing values with a suitable value, such as the mean, median, or mode of the available ages. This can be done using the fillna() function:"
   ]
  },
  {
   "cell_type": "code",
   "execution_count": 15,
   "id": "e0e8ab90",
   "metadata": {},
   "outputs": [],
   "source": [
    "mean_age = accident['age_of_oldest_driver'].mean()\n",
    "accident['age_of_oldest_driver'] = accident['age_of_oldest_driver'].fillna(mean_age)\n"
   ]
  },
  {
   "cell_type": "code",
   "execution_count": 16,
   "id": "f0ade175",
   "metadata": {},
   "outputs": [
    {
     "data": {
      "text/plain": [
       "accident_index                 0\n",
       "speed_limit                    0\n",
       "light_conditions               0\n",
       "weather_conditions             0\n",
       "road_surface_conditions        0\n",
       "vehicle_type                   0\n",
       "junction_location              0\n",
       "skidding_and_overturning       0\n",
       "vehicle_leaving_carriageway    0\n",
       "hit_object_off_carriageway     0\n",
       "first_point_of_impact          0\n",
       "sex_of_driver                  0\n",
       "age_of_oldest_driver           0\n",
       "accident_severity              0\n",
       "dtype: int64"
      ]
     },
     "execution_count": 16,
     "metadata": {},
     "output_type": "execute_result"
    }
   ],
   "source": [
    "accident.isna().sum()"
   ]
  },
  {
   "cell_type": "code",
   "execution_count": 17,
   "id": "2caf8f3d",
   "metadata": {},
   "outputs": [
    {
     "data": {
      "image/png": "[encoded data removed]",
      "text/plain": [
       "<Figure size 576x432 with 1 Axes>"
      ]
     },
     "metadata": {
      "needs_background": "light"
     },
     "output_type": "display_data"
    }
   ],
   "source": [
    "import seaborn as sns\n",
    "import matplotlib.pyplot as plt\n",
    "\n",
    "# Create a histogram for the 'accident_severity' column\n",
    "plt.figure(figsize=(8, 6))\n",
    "sns.countplot(x='accident_severity', data=accident)\n",
    "plt.title('Histogram of Accident Severity')\n",
    "plt.xlabel('Accident Severity')\n",
    "plt.ylabel('Count')\n",
    "plt.show()\n"
   ]
  },
  {
   "cell_type": "code",
   "execution_count": 18,
   "id": "a4d2cbfe",
   "metadata": {},
   "outputs": [
    {
     "data": {
      "image/png": "[encoded data removed]",
      "text/plain": [
       "<Figure size 576x432 with 1 Axes>"
      ]
     },
     "metadata": {
      "needs_background": "light"
     },
     "output_type": "display_data"
    }
   ],
   "source": [
    "import seaborn as sns\n",
    "import matplotlib.pyplot as plt\n",
    "\n",
    "# Create a histogram for the 'age_of_oldest_driver' column\n",
    "plt.figure(figsize=(8, 6))\n",
    "sns.histplot(data=accident, x='age_of_oldest_driver', bins=20, kde=True)\n",
    "plt.title('Histogram of Age of Oldest Driver')\n",
    "plt.xlabel('Age of Oldest Driver')\n",
    "plt.ylabel('Count')\n",
    "plt.show()\n"
   ]
  },
  {
   "cell_type": "markdown",
   "id": "f804a594",
   "metadata": {},
   "source": [
    "# Dropping the Accident Index columns"
   ]
  },
  {
   "cell_type": "code",
   "execution_count": 19,
   "id": "669ee908",
   "metadata": {},
   "outputs": [
    {
     "name": "stdout",
     "output_type": "stream",
     "text": [
      "Value counts for 'speed_limit':\n",
      " 30    17999\n",
      " 60     4029\n",
      " 20     3094\n",
      " 40     2611\n",
      " 70     1530\n",
      " 50     1188\n",
      "-1        24\n",
      "Name: speed_limit, dtype: int64\n",
      "\n",
      "\n",
      "Value counts for 'light_conditions':\n",
      "daylight    21379\n",
      "darkness     9096\n",
      "Name: light_conditions, dtype: int64\n",
      "\n",
      "\n",
      "Value counts for 'weather_conditions':\n",
      "fine                            24226\n",
      "other                            5202\n",
      "data missing or out of range      936\n",
      "fog or mist                       111\n",
      "Name: weather_conditions, dtype: int64\n",
      "\n",
      "\n",
      "Value counts for 'road_surface_conditions':\n",
      "dry                             21294\n",
      "wet or damp                      8426\n",
      "other                             355\n",
      "data missing or out of range      348\n",
      "flood over 3cm. deep               52\n",
      "Name: road_surface_conditions, dtype: int64\n",
      "\n",
      "\n",
      "Value counts for 'vehicle_type':\n",
      "only cars                       16850\n",
      "at least one biped               8341\n",
      "at least one van                 3876\n",
      "biped and van                     963\n",
      "other                             384\n",
      "data missing or out of range       61\n",
      "Name: vehicle_type, dtype: int64\n",
      "\n",
      "\n",
      "Value counts for 'junction_location':\n",
      "at or within 20 metres of junction        16564\n",
      "not at or within 20 metres of junction    12496\n",
      "data missing or out of range               1415\n",
      "Name: junction_location, dtype: int64\n",
      "\n",
      "\n",
      "Value counts for 'skidding_and_overturning':\n",
      "no skidding or overturning                    23472\n",
      "at least one vehicle skidded or overturned     5052\n",
      "data missing or out of range                   1951\n",
      "Name: skidding_and_overturning, dtype: int64\n",
      "\n",
      "\n",
      "Value counts for 'vehicle_leaving_carriageway':\n",
      "none leaving carriageway                    23136\n",
      "at least one vehicle leaving carriageway     5453\n",
      "data missing or out of range                 1886\n",
      "Name: vehicle_leaving_carriageway, dtype: int64\n",
      "\n",
      "\n",
      "Value counts for 'hit_object_off_carriageway':\n",
      "none hit an object                    25170\n",
      "at least one vehicle hit an object     3520\n",
      "data missing or out of range           1785\n",
      "Name: hit_object_off_carriageway, dtype: int64\n",
      "\n",
      "\n",
      "Value counts for 'first_point_of_impact':\n",
      "at least one vehicle with frontal impact    22153\n",
      "other points of impact                       5789\n",
      "no impact                                    1282\n",
      "data missing or out of range                 1251\n",
      "Name: first_point_of_impact, dtype: int64\n",
      "\n",
      "\n",
      "Value counts for 'sex_of_driver':\n",
      "all males                       14931\n",
      "male and female                  6750\n",
      "data missing or out of range     4913\n",
      "all females                      3881\n",
      "Name: sex_of_driver, dtype: int64\n",
      "\n",
      "\n",
      "Value counts for 'age_of_oldest_driver':\n",
      "47.260963     6188\n",
      "30.000000      645\n",
      "50.000000      631\n",
      "48.000000      568\n",
      "54.000000      565\n",
      "              ... \n",
      "6.000000         1\n",
      "96.000000        1\n",
      "101.000000       1\n",
      "97.000000        1\n",
      "10.000000        1\n",
      "Name: age_of_oldest_driver, Length: 93, dtype: int64\n",
      "\n",
      "\n",
      "Value counts for 'accident_severity':\n",
      "Slight     12691\n",
      "Serious    11617\n",
      "Fatal       6167\n",
      "Name: accident_severity, dtype: int64\n",
      "\n",
      "\n"
     ]
    }
   ],
   "source": [
    "# Drop the 'accident_index' column\n",
    "accident = accident.drop(columns=['accident_index'])\n",
    "\n",
    "# Print the value counts for each column\n",
    "for column in accident.columns:\n",
    "    print(f\"Value counts for '{column}':\")\n",
    "    print(accident[column].value_counts())\n",
    "    print(\"\\n\")\n"
   ]
  },
  {
   "cell_type": "markdown",
   "id": "28493336",
   "metadata": {},
   "source": [
    "# Data cleaning and processing "
   ]
  },
  {
   "cell_type": "code",
   "execution_count": 20,
   "id": "7bba200d",
   "metadata": {},
   "outputs": [
    {
     "name": "stdout",
     "output_type": "stream",
     "text": [
      "Processed value counts for 'speed_limit':\n",
      " 30    17999\n",
      " 60     4029\n",
      " 20     3094\n",
      " 40     2611\n",
      " 70     1530\n",
      " 50     1188\n",
      "-1        24\n",
      "Name: speed_limit, dtype: int64\n",
      "\n",
      "\n",
      "Processed value counts for 'light_conditions':\n",
      "daylight    21379\n",
      "darkness     9096\n",
      "Name: light_conditions, dtype: int64\n",
      "\n",
      "\n",
      "Processed value counts for 'weather_conditions':\n",
      "fine           24226\n",
      "other           6138\n",
      "fog or mist      111\n",
      "Name: weather_conditions, dtype: int64\n",
      "\n",
      "\n",
      "Processed value counts for 'road_surface_conditions':\n",
      "dry                     21294\n",
      "wet or damp              8426\n",
      "other                     703\n",
      "flood over 3cm. deep       52\n",
      "Name: road_surface_conditions, dtype: int64\n",
      "\n",
      "\n",
      "Processed value counts for 'vehicle_type':\n",
      "only cars             16850\n",
      "at least one biped     8341\n",
      "at least one van       3876\n",
      "biped and van           963\n",
      "other                   445\n",
      "Name: vehicle_type, dtype: int64\n",
      "\n",
      "\n",
      "Processed value counts for 'junction_location':\n",
      "at or within 20 metres of junction        16564\n",
      "not at or within 20 metres of junction    12496\n",
      "other                                      1415\n",
      "Name: junction_location, dtype: int64\n",
      "\n",
      "\n",
      "Processed value counts for 'skidding_and_overturning':\n",
      "no skidding or overturning                    23472\n",
      "at least one vehicle skidded or overturned     5052\n",
      "other                                          1951\n",
      "Name: skidding_and_overturning, dtype: int64\n",
      "\n",
      "\n",
      "Processed value counts for 'vehicle_leaving_carriageway':\n",
      "none leaving carriageway                    23136\n",
      "at least one vehicle leaving carriageway     5453\n",
      "other                                        1886\n",
      "Name: vehicle_leaving_carriageway, dtype: int64\n",
      "\n",
      "\n",
      "Processed value counts for 'hit_object_off_carriageway':\n",
      "none hit an object                    25170\n",
      "at least one vehicle hit an object     3520\n",
      "other                                  1785\n",
      "Name: hit_object_off_carriageway, dtype: int64\n",
      "\n",
      "\n",
      "Processed value counts for 'first_point_of_impact':\n",
      "at least one vehicle with frontal impact    22153\n",
      "other points of impact                       5789\n",
      "no impact                                    1282\n",
      "other                                        1251\n",
      "Name: first_point_of_impact, dtype: int64\n",
      "\n",
      "\n",
      "Processed value counts for 'sex_of_driver':\n",
      "all males      14931\n",
      "other          11663\n",
      "all females     3881\n",
      "Name: sex_of_driver, dtype: int64\n",
      "\n",
      "\n",
      "Processed value counts for 'age_of_oldest_driver':\n",
      "47.260963     6188\n",
      "30.000000      645\n",
      "50.000000      631\n",
      "48.000000      568\n",
      "54.000000      565\n",
      "              ... \n",
      "6.000000         1\n",
      "96.000000        1\n",
      "101.000000       1\n",
      "97.000000        1\n",
      "10.000000        1\n",
      "Name: age_of_oldest_driver, Length: 93, dtype: int64\n",
      "\n",
      "\n",
      "Processed value counts for 'accident_severity':\n",
      "Slight     12691\n",
      "Serious    11617\n",
      "Fatal       6167\n",
      "Name: accident_severity, dtype: int64\n",
      "\n",
      "\n"
     ]
    }
   ],
   "source": [
    "# Convert all the column values to lowercase strings\n",
    "columns_to_clean = ['light_conditions', 'weather_conditions', 'road_surface_conditions', 'vehicle_type', 'junction_location', 'skidding_and_overturning', 'vehicle_leaving_carriageway', 'hit_object_off_carriageway', 'first_point_of_impact', 'sex_of_driver']\n",
    "for column in columns_to_clean:\n",
    "    accident[column] = accident[column].str.lower()\n",
    "\n",
    "# Function to process the columns\n",
    "def process_columns(data):\n",
    "    # Combine 'data missing or out of range' with 'other' for columns with 'data missing or out of range' category\n",
    "    columns_to_replace = ['weather_conditions', 'road_surface_conditions', 'vehicle_type', 'junction_location', 'skidding_and_overturning', 'vehicle_leaving_carriageway', 'hit_object_off_carriageway', 'first_point_of_impact', 'sex_of_driver']\n",
    "    for col in columns_to_replace:\n",
    "        data[col] = data[col].replace('data missing or out of range', 'other')\n",
    "\n",
    "    # Combine 'male and female' and 'other' categories in 'sex_of_driver'\n",
    "    data['sex_of_driver'] = data['sex_of_driver'].replace('male and female', 'other')\n",
    "\n",
    "    return data\n",
    "\n",
    "# Apply the function to the dataset\n",
    "accident = process_columns(accident)\n",
    "\n",
    "# Print the processed value counts for each column\n",
    "for column in accident.columns:\n",
    "    print(f\"Processed value counts for '{column}':\")\n",
    "    print(accident[column].value_counts())\n",
    "    print(\"\\n\")\n"
   ]
  },
  {
   "cell_type": "markdown",
   "id": "d6bd85ae",
   "metadata": {},
   "source": [
    "# CHANGING THE CATEGORICAL VARIBLES USING LABEL ENCODE "
   ]
  },
  {
   "cell_type": "code",
   "execution_count": 21,
   "id": "b3685f82",
   "metadata": {},
   "outputs": [
    {
     "name": "stdout",
     "output_type": "stream",
     "text": [
      "   speed_limit  light_conditions  weather_conditions  road_surface_conditions  \\\n",
      "0           30                 0                   2                        3   \n",
      "1           30                 0                   0                        0   \n",
      "2           40                 1                   0                        0   \n",
      "3           40                 1                   0                        0   \n",
      "4           30                 1                   0                        0   \n",
      "\n",
      "   vehicle_type  junction_location  skidding_and_overturning  \\\n",
      "0             1                  0                         1   \n",
      "1             3                  0                         1   \n",
      "2             3                  0                         1   \n",
      "3             3                  1                         1   \n",
      "4             3                  1                         1   \n",
      "\n",
      "   vehicle_leaving_carriageway  hit_object_off_carriageway  \\\n",
      "0                            1                           1   \n",
      "1                            0                           0   \n",
      "2                            1                           1   \n",
      "3                            1                           1   \n",
      "4                            1                           1   \n",
      "\n",
      "   first_point_of_impact  sex_of_driver  age_of_oldest_driver  \\\n",
      "0                      3              1             63.000000   \n",
      "1                      0              1             82.000000   \n",
      "2                      0              2             47.260963   \n",
      "3                      0              2             47.260963   \n",
      "4                      0              0             39.000000   \n",
      "\n",
      "   accident_severity  \n",
      "0                  1  \n",
      "1                  0  \n",
      "2                  1  \n",
      "3                  1  \n",
      "4                  2  \n",
      "Labels for 'light_conditions':\n",
      "{'darkness': 0, 'daylight': 1}\n",
      "\n",
      "\n",
      "Labels for 'weather_conditions':\n",
      "{'fine': 0, 'fog or mist': 1, 'other': 2}\n",
      "\n",
      "\n",
      "Labels for 'road_surface_conditions':\n",
      "{'dry': 0, 'flood over 3cm. deep': 1, 'other': 2, 'wet or damp': 3}\n",
      "\n",
      "\n",
      "Labels for 'vehicle_type':\n",
      "{'at least one biped': 0, 'at least one van': 1, 'biped and van': 2, 'only cars': 3, 'other': 4}\n",
      "\n",
      "\n",
      "Labels for 'junction_location':\n",
      "{'at or within 20 metres of junction': 0, 'not at or within 20 metres of junction': 1, 'other': 2}\n",
      "\n",
      "\n",
      "Labels for 'skidding_and_overturning':\n",
      "{'at least one vehicle skidded or overturned': 0, 'no skidding or overturning': 1, 'other': 2}\n",
      "\n",
      "\n",
      "Labels for 'vehicle_leaving_carriageway':\n",
      "{'at least one vehicle leaving carriageway': 0, 'none leaving carriageway': 1, 'other': 2}\n",
      "\n",
      "\n",
      "Labels for 'hit_object_off_carriageway':\n",
      "{'at least one vehicle hit an object': 0, 'none hit an object': 1, 'other': 2}\n",
      "\n",
      "\n",
      "Labels for 'first_point_of_impact':\n",
      "{'at least one vehicle with frontal impact': 0, 'no impact': 1, 'other': 2, 'other points of impact': 3}\n",
      "\n",
      "\n",
      "Labels for 'sex_of_driver':\n",
      "{'all females': 0, 'all males': 1, 'other': 2}\n",
      "\n",
      "\n",
      "Labels for 'accident_severity':\n",
      "{'Fatal': 0, 'Serious': 1, 'Slight': 2}\n",
      "\n",
      "\n"
     ]
    }
   ],
   "source": [
    "# Drop all the rows containing null or NaN values\n",
    "from sklearn.preprocessing import LabelEncoder\n",
    "accident = accident.dropna()\n",
    "\n",
    "# Initialize a dictionary to store the LabelEncoders for each column\n",
    "label_encoders = {}\n",
    "\n",
    "# Apply LabelEncoder to object-type columns\n",
    "for column in accident.select_dtypes(include='object').columns:\n",
    "    le = LabelEncoder()\n",
    "    accident[column] = le.fit_transform(accident[column])\n",
    "    label_encoders[column] = le\n",
    "\n",
    "# Print the encoded dataframe\n",
    "print(accident.head())\n",
    "\n",
    "# Print the label encoders for each column\n",
    "for column, le in label_encoders.items():\n",
    "    print(f\"Labels for '{column}':\")\n",
    "    print(dict(zip(le.classes_, le.transform(le.classes_))))\n",
    "    print(\"\\n\")\n"
   ]
  },
  {
   "cell_type": "markdown",
   "id": "024cf1a1",
   "metadata": {},
   "source": [
    "#### 1.Split the data into features (X) and target variable (y).\n",
    "#### 2.Split the data into training and testing sets.\n",
    "#### 3.Train the Decision Tree classifier on the training set.\n",
    "#### 4.Make predictions on the testing set.\n",
    "#### 5.Print the classification report."
   ]
  },
  {
   "cell_type": "markdown",
   "id": "8c2974f6",
   "metadata": {},
   "source": [
    "# Decision Tree "
   ]
  },
  {
   "cell_type": "code",
   "execution_count": 22,
   "id": "2314a203",
   "metadata": {},
   "outputs": [
    {
     "name": "stdout",
     "output_type": "stream",
     "text": [
      "              precision    recall  f1-score   support\n",
      "\n",
      "           0       0.60      0.65      0.63      1222\n",
      "           1       0.68      0.70      0.69      2308\n",
      "           2       0.76      0.71      0.74      2565\n",
      "\n",
      "    accuracy                           0.70      6095\n",
      "   macro avg       0.68      0.69      0.68      6095\n",
      "weighted avg       0.70      0.70      0.70      6095\n",
      "\n"
     ]
    }
   ],
   "source": [
    "from sklearn.model_selection import train_test_split\n",
    "from sklearn.tree import DecisionTreeClassifier\n",
    "from sklearn.metrics import classification_report\n",
    "\n",
    "# Split the data into features (X) and target variable (y)\n",
    "X = accident.drop(columns=['accident_severity'])\n",
    "y = accident['accident_severity']\n",
    "\n",
    "# Split the data into training and testing sets\n",
    "X_train, X_test, y_train, y_test = train_test_split(X, y, test_size=0.2, random_state=42)\n",
    "\n",
    "# Train the Decision Tree classifier on the training set\n",
    "clf = DecisionTreeClassifier()\n",
    "clf.fit(X_train, y_train)\n",
    "\n",
    "# Make predictions on the testing set\n",
    "y_pred = clf.predict(X_test)\n",
    "\n",
    "# Print the classification report\n",
    "print(classification_report(y_test, y_pred))\n"
   ]
  },
  {
   "cell_type": "markdown",
   "id": "e22b65a8",
   "metadata": {},
   "source": [
    "# Tuned Decision tree"
   ]
  },
  {
   "cell_type": "code",
   "execution_count": 24,
   "id": "baf92c33",
   "metadata": {},
   "outputs": [
    {
     "name": "stdout",
     "output_type": "stream",
     "text": [
      "Best parameters:  {'max_depth': 5, 'min_samples_leaf': 1, 'min_samples_split': 10}\n",
      "              precision    recall  f1-score   support\n",
      "\n",
      "           0       0.61      0.81      0.70      1222\n",
      "           1       0.81      0.72      0.76      2308\n",
      "           2       0.83      0.78      0.80      2565\n",
      "\n",
      "    accuracy                           0.76      6095\n",
      "   macro avg       0.75      0.77      0.75      6095\n",
      "weighted avg       0.78      0.76      0.76      6095\n",
      "\n"
     ]
    }
   ],
   "source": [
    "from sklearn.model_selection import GridSearchCV, train_test_split\n",
    "from sklearn.tree import DecisionTreeClassifier\n",
    "from sklearn.metrics import classification_report\n",
    "# Define the parameter grid to search over\n",
    "param_grid = {\n",
    "    'max_depth': [3, 5],\n",
    "    'min_samples_split': [5, 10],\n",
    "    'min_samples_leaf': [1, 2, 4]\n",
    "}\n",
    "\n",
    "# Create a decision tree classifier\n",
    "clf = DecisionTreeClassifier(random_state=42)\n",
    "\n",
    "# Use GridSearchCV to find the best hyperparameters\n",
    "grid_search = GridSearchCV(clf, param_grid=param_grid, cv=2)\n",
    "grid_search.fit(X_train, y_train)\n",
    "\n",
    "# Print the best hyperparameters\n",
    "print(\"Best parameters: \", grid_search.best_params_)\n",
    "\n",
    "# Use the best estimator to make predictions on the testing set\n",
    "best_clf = grid_search.best_estimator_\n",
    "y_pred = best_clf.predict(X_test)\n",
    "\n",
    "# Print the classification report\n",
    "print(classification_report(y_test, y_pred))"
   ]
  },
  {
   "cell_type": "markdown",
   "id": "139465a8",
   "metadata": {},
   "source": [
    "# Neural net "
   ]
  },
  {
   "cell_type": "code",
   "execution_count": 25,
   "id": "0b0261d7",
   "metadata": {},
   "outputs": [],
   "source": [
    "import tensorflow as tf\n",
    "from sklearn.preprocessing import OneHotEncoder\n",
    "from sklearn.metrics import confusion_matrix\n",
    "import matplotlib.pyplot as plt\n",
    "\n",
    "# One-hot encode the target variable\n",
    "encoder = OneHotEncoder()\n",
    "y_train_encoded = encoder.fit_transform(y_train.values.reshape(-1, 1)).toarray()\n",
    "y_test_encoded = encoder.transform(y_test.values.reshape(-1, 1)).toarray()"
   ]
  },
  {
   "cell_type": "code",
   "execution_count": 28,
   "id": "d7f4547b",
   "metadata": {},
   "outputs": [],
   "source": [
    "# Create the neural network architecture\n",
    "model = tf.keras.Sequential([\n",
    "    tf.keras.layers.Dense(64, activation='relu', input_shape=(X_train.shape[1],)),\n",
    "    tf.keras.layers.Dense(32, activation='relu'),\n",
    "    tf.keras.layers.Dense(3, activation='softmax')\n",
    "])\n",
    "\n",
    "# Compile the model\n",
    "model.compile(optimizer='adam', loss='categorical_crossentropy', metrics=['accuracy'])\n",
    "\n",
    "# Train the model\n",
    "history = model.fit(X_train, y_train_encoded, validation_data=(X_test, y_test_encoded), epochs=50, batch_size=32, verbose=0)"
   ]
  },
  {
   "cell_type": "code",
   "execution_count": 29,
   "id": "5fc15a80",
   "metadata": {},
   "outputs": [
    {
     "name": "stdout",
     "output_type": "stream",
     "text": [
      "Model: \"sequential\"\n",
      "_________________________________________________________________\n",
      " Layer (type)                Output Shape              Param #   \n",
      "=================================================================\n",
      " dense (Dense)               (None, 64)                832       \n",
      "                                                                 \n",
      " dense_1 (Dense)             (None, 32)                2080      \n",
      "                                                                 \n",
      " dense_2 (Dense)             (None, 3)                 99        \n",
      "                                                                 \n",
      "=================================================================\n",
      "Total params: 3,011\n",
      "Trainable params: 3,011\n",
      "Non-trainable params: 0\n",
      "_________________________________________________________________\n"
     ]
    }
   ],
   "source": [
    "model.summary()"
   ]
  },
  {
   "cell_type": "code",
   "execution_count": 30,
   "id": "5ec0853e",
   "metadata": {},
   "outputs": [
    {
     "name": "stdout",
     "output_type": "stream",
     "text": [
      "191/191 [==============================] - 0s 740us/step\n",
      "[[1048  126   48]\n",
      " [ 362 1697  249]\n",
      " [ 287  327 1951]]\n"
     ]
    }
   ],
   "source": [
    "\n",
    "# Evaluate the model and print the confusion matrix\n",
    "y_pred_encoded = model.predict(X_test)\n",
    "y_pred = encoder.inverse_transform(y_pred_encoded)\n",
    "print(confusion_matrix(y_test, y_pred))\n"
   ]
  },
  {
   "cell_type": "code",
   "execution_count": 31,
   "id": "12e2c009",
   "metadata": {},
   "outputs": [
    {
     "name": "stdout",
     "output_type": "stream",
     "text": [
      "              precision    recall  f1-score   support\n",
      "\n",
      "           0       0.62      0.86      0.72      1222\n",
      "           1       0.79      0.74      0.76      2308\n",
      "           2       0.87      0.76      0.81      2565\n",
      "\n",
      "    accuracy                           0.77      6095\n",
      "   macro avg       0.76      0.78      0.76      6095\n",
      "weighted avg       0.79      0.77      0.77      6095\n",
      "\n"
     ]
    }
   ],
   "source": [
    "from sklearn.metrics import classification_report\n",
    "\n",
    "# Print the classification report\n",
    "print(classification_report(y_test, y_pred))\n"
   ]
  },
  {
   "cell_type": "code",
   "execution_count": 32,
   "id": "66dfec48",
   "metadata": {},
   "outputs": [
    {
     "data": {
      "image/png": "[encoded data removed]",
      "text/plain": [
       "<Figure size 864x432 with 2 Axes>"
      ]
     },
     "metadata": {
      "needs_background": "light"
     },
     "output_type": "display_data"
    }
   ],
   "source": [
    "# Plot the accuracy vs epochs and loss vs epochs\n",
    "plt.figure(figsize=(12, 6))\n",
    "\n",
    "plt.subplot(1, 2, 1)\n",
    "plt.plot(history.history['accuracy'], label='Training Accuracy')\n",
    "plt.plot(history.history['val_accuracy'], label='Validation Accuracy')\n",
    "plt.xlabel('Epochs')\n",
    "plt.ylabel('Accuracy')\n",
    "plt.legend()\n",
    "\n",
    "plt.subplot(1, 2, 2)\n",
    "plt.plot(history.history['loss'], label='Training Loss')\n",
    "plt.plot(history.history['val_loss'], label='Validation Loss')\n",
    "plt.xlabel('Epochs')\n",
    "plt.ylabel('Loss')\n",
    "plt.legend()\n",
    "\n",
    "plt.show()"
   ]
  },
  {
   "cell_type": "markdown",
   "id": "3b49b154",
   "metadata": {},
   "source": [
    "# Tuned Neural Net "
   ]
  },
  {
   "cell_type": "code",
   "execution_count": 28,
   "id": "50e30968",
   "metadata": {},
   "outputs": [
    {
     "name": "stdout",
     "output_type": "stream",
     "text": [
      "191/191 [==============================] - 0s 720us/step\n"
     ]
    }
   ],
   "source": [
    "from tensorflow.keras.callbacks import EarlyStopping\n",
    "from sklearn.metrics import classification_report\n",
    "\n",
    "# Define the hyperparameters to tune over\n",
    "param_grid = {\n",
    "    'optimizer': ['adam', 'sgd'],\n",
    "    'hidden_size': [16]\n",
    "}\n",
    "\n",
    "# Convert y_train and y_test to one-hot encoded format\n",
    "y_train_encoded = tf.keras.utils.to_categorical(y_train, num_classes=3)\n",
    "y_test_encoded = tf.keras.utils.to_categorical(y_test, num_classes=3)\n",
    "\n",
    "best_score = 0\n",
    "\n",
    "# Loop over all combinations of hyperparameters\n",
    "for optimizer in param_grid['optimizer']:\n",
    "    for hidden_size in param_grid['hidden_size']:\n",
    "        \n",
    "        # Create the neural network model\n",
    "        model = tf.keras.Sequential([\n",
    "            tf.keras.layers.Dense(64, activation='relu', input_shape=(X_train.shape[1],)),\n",
    "            tf.keras.layers.Dense(hidden_size, activation='relu'),\n",
    "            tf.keras.layers.Dense(3, activation='softmax')\n",
    "        ])\n",
    "\n",
    "        # Compile the model with the current hyperparameters\n",
    "        model.compile(optimizer=optimizer, loss='categorical_crossentropy', metrics=['accuracy'])\n",
    "        \n",
    "        # Train the model with early stopping\n",
    "        early_stop = EarlyStopping(patience=5, restore_best_weights=True)\n",
    "        history = model.fit(X_train, y_train_encoded, validation_data=(X_test, y_test_encoded), epochs=100, batch_size=32, callbacks=[early_stop], verbose=0)\n",
    "        \n",
    "        # Evaluate the model and store the best score and hyperparameters\n",
    "        score = model.evaluate(X_test, y_test_encoded, verbose=0)[1]\n",
    "        if score > best_score:\n",
    "            best_score = score\n",
    "            best_params = {'optimizer': optimizer, 'hidden_size': hidden_size}\n",
    "            y_pred_encoded = model.predict(X_test)\n",
    "            y_pred = encoder.inverse_transform(y_pred_encoded)"
   ]
  },
  {
   "cell_type": "code",
   "execution_count": 30,
   "id": "a2227f37",
   "metadata": {},
   "outputs": [
    {
     "name": "stdout",
     "output_type": "stream",
     "text": [
      "Best parameters:  {'optimizer': 'adam', 'hidden_size': 16}\n",
      "              precision    recall  f1-score   support\n",
      "\n",
      "           0       0.62      0.88      0.72      1222\n",
      "           1       0.80      0.72      0.76      2308\n",
      "           2       0.86      0.77      0.81      2565\n",
      "\n",
      "    accuracy                           0.77      6095\n",
      "   macro avg       0.76      0.79      0.76      6095\n",
      "weighted avg       0.79      0.77      0.77      6095\n",
      "\n"
     ]
    }
   ],
   "source": [
    "# Print the best hyperparameters and classification report\n",
    "print(\"Best parameters: \", best_params)\n",
    "print(classification_report(y_test, y_pred))"
   ]
  },
  {
   "cell_type": "code",
   "execution_count": null,
   "id": "d48827a3",
   "metadata": {},
   "outputs": [],
   "source": []
  },
  {
   "cell_type": "code",
   "execution_count": null,
   "id": "250c71a2-ed1a-47a0-aef7-d184333746e4",
   "metadata": {},
   "outputs": [],
   "source": []
  }
 ],
 "metadata": {
  "kernelspec": {
   "display_name": "Python 3 (ipykernel)",
   "language": "python",
   "name": "python3"
  },
  "language_info": {
   "codemirror_mode": {
    "name": "ipython",
    "version": 3
   },
   "file_extension": ".py",
   "mimetype": "text/x-python",
   "name": "python",
   "nbconvert_exporter": "python",
   "pygments_lexer": "ipython3",
   "version": "3.11.2"
  }
 },
 "nbformat": 4,
 "nbformat_minor": 5
}
